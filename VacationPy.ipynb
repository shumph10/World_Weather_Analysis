{
 "cells": [
  {
   "cell_type": "code",
   "execution_count": 1,
   "id": "73787434",
   "metadata": {},
   "outputs": [],
   "source": [
    "#Import dependencies\n",
    "\n",
    "import pandas as pd\n",
    "import matplotlib.pyplot as plt\n",
    "import gmaps\n",
    "import requests\n",
    "\n",
    "#import the API key\n",
    "from config import g_key"
   ]
  },
  {
   "cell_type": "code",
   "execution_count": 2,
   "id": "58e1bbb9",
   "metadata": {},
   "outputs": [
    {
     "data": {
      "text/html": [
       "<div>\n",
       "<style scoped>\n",
       "    .dataframe tbody tr th:only-of-type {\n",
       "        vertical-align: middle;\n",
       "    }\n",
       "\n",
       "    .dataframe tbody tr th {\n",
       "        vertical-align: top;\n",
       "    }\n",
       "\n",
       "    .dataframe thead th {\n",
       "        text-align: right;\n",
       "    }\n",
       "</style>\n",
       "<table border=\"1\" class=\"dataframe\">\n",
       "  <thead>\n",
       "    <tr style=\"text-align: right;\">\n",
       "      <th></th>\n",
       "      <th>City_ID</th>\n",
       "      <th>City</th>\n",
       "      <th>Country</th>\n",
       "      <th>Date</th>\n",
       "      <th>Lat</th>\n",
       "      <th>Lng</th>\n",
       "      <th>Max Temp</th>\n",
       "      <th>Humidity</th>\n",
       "      <th>Cloudiness</th>\n",
       "      <th>Wind Speed</th>\n",
       "    </tr>\n",
       "  </thead>\n",
       "  <tbody>\n",
       "    <tr>\n",
       "      <th>0</th>\n",
       "      <td>0</td>\n",
       "      <td>Busselton</td>\n",
       "      <td>AU</td>\n",
       "      <td>2022-04-13 18:06:33</td>\n",
       "      <td>-33.6500</td>\n",
       "      <td>115.3333</td>\n",
       "      <td>54.03</td>\n",
       "      <td>86</td>\n",
       "      <td>0</td>\n",
       "      <td>9.17</td>\n",
       "    </tr>\n",
       "    <tr>\n",
       "      <th>1</th>\n",
       "      <td>1</td>\n",
       "      <td>Itoman</td>\n",
       "      <td>JP</td>\n",
       "      <td>2022-04-13 18:06:33</td>\n",
       "      <td>26.1247</td>\n",
       "      <td>127.6694</td>\n",
       "      <td>73.42</td>\n",
       "      <td>78</td>\n",
       "      <td>11</td>\n",
       "      <td>5.75</td>\n",
       "    </tr>\n",
       "    <tr>\n",
       "      <th>2</th>\n",
       "      <td>2</td>\n",
       "      <td>Bluff</td>\n",
       "      <td>NZ</td>\n",
       "      <td>2022-04-13 18:06:34</td>\n",
       "      <td>-46.6000</td>\n",
       "      <td>168.3333</td>\n",
       "      <td>45.81</td>\n",
       "      <td>82</td>\n",
       "      <td>83</td>\n",
       "      <td>12.64</td>\n",
       "    </tr>\n",
       "    <tr>\n",
       "      <th>3</th>\n",
       "      <td>3</td>\n",
       "      <td>East London</td>\n",
       "      <td>ZA</td>\n",
       "      <td>2022-04-13 18:06:34</td>\n",
       "      <td>-33.0153</td>\n",
       "      <td>27.9116</td>\n",
       "      <td>70.90</td>\n",
       "      <td>82</td>\n",
       "      <td>1</td>\n",
       "      <td>3.74</td>\n",
       "    </tr>\n",
       "    <tr>\n",
       "      <th>4</th>\n",
       "      <td>4</td>\n",
       "      <td>Atuona</td>\n",
       "      <td>PF</td>\n",
       "      <td>2022-04-13 18:06:34</td>\n",
       "      <td>-9.8000</td>\n",
       "      <td>-139.0333</td>\n",
       "      <td>78.40</td>\n",
       "      <td>80</td>\n",
       "      <td>44</td>\n",
       "      <td>18.21</td>\n",
       "    </tr>\n",
       "  </tbody>\n",
       "</table>\n",
       "</div>"
      ],
      "text/plain": [
       "   City_ID         City Country                 Date      Lat       Lng  \\\n",
       "0        0    Busselton      AU  2022-04-13 18:06:33 -33.6500  115.3333   \n",
       "1        1       Itoman      JP  2022-04-13 18:06:33  26.1247  127.6694   \n",
       "2        2        Bluff      NZ  2022-04-13 18:06:34 -46.6000  168.3333   \n",
       "3        3  East London      ZA  2022-04-13 18:06:34 -33.0153   27.9116   \n",
       "4        4       Atuona      PF  2022-04-13 18:06:34  -9.8000 -139.0333   \n",
       "\n",
       "   Max Temp  Humidity  Cloudiness  Wind Speed  \n",
       "0     54.03        86           0        9.17  \n",
       "1     73.42        78          11        5.75  \n",
       "2     45.81        82          83       12.64  \n",
       "3     70.90        82           1        3.74  \n",
       "4     78.40        80          44       18.21  "
      ]
     },
     "execution_count": 2,
     "metadata": {},
     "output_type": "execute_result"
    }
   ],
   "source": [
    "#store the CSV saved and created in part 1 into a DataFrame\n",
    "city_data_df = pd.read_csv(\"weather_data/cities.csv\")\n",
    "city_data_df.head()"
   ]
  },
  {
   "cell_type": "code",
   "execution_count": 3,
   "id": "52dbb6ea",
   "metadata": {},
   "outputs": [
    {
     "data": {
      "text/plain": [
       "City_ID         int64\n",
       "City           object\n",
       "Country        object\n",
       "Date           object\n",
       "Lat           float64\n",
       "Lng           float64\n",
       "Max Temp      float64\n",
       "Humidity        int64\n",
       "Cloudiness      int64\n",
       "Wind Speed    float64\n",
       "dtype: object"
      ]
     },
     "execution_count": 3,
     "metadata": {},
     "output_type": "execute_result"
    }
   ],
   "source": [
    "#data must be int or float to use gmaps -- check data types\n",
    "#get the data types\n",
    "city_data_df.dtypes"
   ]
  },
  {
   "cell_type": "code",
   "execution_count": 4,
   "id": "fc4e425a",
   "metadata": {},
   "outputs": [],
   "source": [
    "#configure gmaps to use API key(only have to do once)\n",
    "#congig gmaps to use my google API key\n",
    "gmaps.configure(api_key=g_key)"
   ]
  },
  {
   "cell_type": "code",
   "execution_count": 5,
   "id": "8ede0617",
   "metadata": {},
   "outputs": [],
   "source": [
    "# #General Syntax for creating heat maps\n",
    "\n",
    "# #1. Assign the locations to an array of lat and longitude pairs\n",
    "#     #can get from a dataframe just do df[[\"x\",\"y\"]]\n",
    "# locations = [latitude, longitude]\n",
    "\n",
    "# #2. Assign the weights variable to some values\n",
    "# temperatures = # an array of length equal to the locations array length\n",
    "\n",
    "# #3. assign the figure variables ot the gmaps.figure() attribute\n",
    "# fig = gmaps.figure()\n",
    "\n",
    "# #4 assign the heatmap_layer variable to the heatmap_layer attribute and add in the locations\n",
    "# heatmap_layer = gmaps.heatmap_layer(locations, weights=temperatures)\n",
    "\n",
    "# #5. add the heatmap later\n",
    "# fig.add_layer(heatmap_layer)\n",
    "\n",
    "# #6. Call the figure to plot the data\n",
    "# fig"
   ]
  },
  {
   "cell_type": "code",
   "execution_count": 6,
   "id": "662508e5",
   "metadata": {},
   "outputs": [
    {
     "data": {
      "application/vnd.jupyter.widget-view+json": {
       "model_id": "7e1d5bbf8bc84ebdb5736a249450b149",
       "version_major": 2,
       "version_minor": 0
      },
      "text/plain": [
       "Figure(layout=FigureLayout(height='420px'))"
      ]
     },
     "metadata": {},
     "output_type": "display_data"
    }
   ],
   "source": [
    "# # #add locations array and values for max temp from the city_data_df for steps 1 & 2\n",
    "# Heatmap of temperature\n",
    "# Get the latitude and longitude.\n",
    "locations = city_data_df[[\"Lat\", \"Lng\"]]\n",
    "# Get the maximum temperature.\n",
    "max_temp = city_data_df[\"Max Temp\"]\n",
    "# temps = []\n",
    "# for temp in max_temp:\n",
    "#     temps.append(max(temp, 0))\n",
    "# Assign the figure variable.\n",
    "#add the geographic center of the earht at lat 30.0 N and long 31.0 E and add zoom level so only 1 map is shown\n",
    "fig = gmaps.figure(center=(30.0, 31.0), zoom_level=1.5)\n",
    "# # Assign the heatmap variable.\n",
    "# heat_layer = gmaps.heatmap_layer(locations, weights=temps)\n",
    "    #could also do with list comprehension w/\n",
    "#adjust dissipation from default true to false (whether the radius of influence changes when you zoom in/out, does if true, doesnt change if false)\n",
    "#add max_intensity to make each measurement have a better gradient variance\n",
    "#add point_radius to make each measurement radius longer\n",
    "heat_layer = gmaps.heatmap_layer(locations, weights=[max(temp, 0) for temp in max_temp],dissipating=False, max_intensity=120, point_radius=4)\n",
    "# Add the heatmap layer.\n",
    "fig.add_layer(heat_layer)\n",
    "# Call the figure to plot the data.\n",
    "fig\n"
   ]
  },
  {
   "cell_type": "code",
   "execution_count": 7,
   "id": "02148dcd",
   "metadata": {},
   "outputs": [
    {
     "data": {
      "application/vnd.jupyter.widget-view+json": {
       "model_id": "cb8babfb6a4541929f342b16e8e9fb65",
       "version_major": 2,
       "version_minor": 0
      },
      "text/plain": [
       "Figure(layout=FigureLayout(height='420px'))"
      ]
     },
     "metadata": {},
     "output_type": "display_data"
    }
   ],
   "source": [
    "#create a % humidity heat map\n",
    "locations = city_data_df[[\"Lat\", \"Lng\"]]\n",
    "humidity = city_data_df[\"Humidity\"]\n",
    "fig = gmaps.figure(center=(30.0, 31.0), zoom_level=1.5)\n",
    "heat_layer = gmaps.heatmap_layer(locations, weights=humidity, dissipating=False, max_intensity = 150, point_radius=2.5)\n",
    "\n",
    "fig.add_layer(heat_layer)\n",
    "\n",
    "#call the fig to plot\n",
    "fig"
   ]
  },
  {
   "cell_type": "code",
   "execution_count": 8,
   "id": "5b2d0b9c",
   "metadata": {},
   "outputs": [
    {
     "data": {
      "application/vnd.jupyter.widget-view+json": {
       "model_id": "69102bbfc14e44b1a5e3cb8b50859c17",
       "version_major": 2,
       "version_minor": 0
      },
      "text/plain": [
       "Figure(layout=FigureLayout(height='420px'))"
      ]
     },
     "metadata": {},
     "output_type": "display_data"
    }
   ],
   "source": [
    "#create a heatmap of % cloudiness\n",
    "locations = city_data_df[[\"Lat\", \"Lng\"]]\n",
    "cloud = city_data_df[\"Cloudiness\"]\n",
    "fig = gmaps.figure(center = (30.0, 31.0), zoom_level = 1.5)\n",
    "heat_layer = gmaps.heatmap_layer(locations, weights = cloud, dissipating=False, max_intensity = 250, point_radius = 3)\n",
    "\n",
    "fig.add_layer(heat_layer)\n",
    "\n",
    "fig"
   ]
  },
  {
   "cell_type": "code",
   "execution_count": 9,
   "id": "c14b5592",
   "metadata": {},
   "outputs": [
    {
     "data": {
      "application/vnd.jupyter.widget-view+json": {
       "model_id": "ec1d4600b13f41d6a4d60b9e7889af6f",
       "version_major": 2,
       "version_minor": 0
      },
      "text/plain": [
       "Figure(layout=FigureLayout(height='420px'))"
      ]
     },
     "metadata": {},
     "output_type": "display_data"
    }
   ],
   "source": [
    "#create wind speed heatmap\n",
    "location = city_data_df[[\"Lat\", \"Lng\"]]\n",
    "winds = city_data_df[\"Wind Speed\"]\n",
    "fig = gmaps.figure(center= (30.0, 31.0), zoom_level = 1.5)\n",
    "heat_layer = gmaps.heatmap_layer(location, weights=winds, dissipating=False, max_intensity=200, point_radius=4)\n",
    "fig.add_layer(heat_layer)\n",
    "fig"
   ]
  },
  {
   "cell_type": "code",
   "execution_count": 16,
   "id": "1444d749",
   "metadata": {},
   "outputs": [
    {
     "name": "stdout",
     "output_type": "stream",
     "text": [
      "What is the minimum temperature you would like for your trip? 70\n",
      "What is the maximum temperature you would like for your trip? 90\n"
     ]
    }
   ],
   "source": [
    "#create input for desired min and max temps as floats\n",
    "min_temp = float(input(\"What is the minimum temperature you would like for your trip? \"))\n",
    "max_temp = float(input(\"What is the maximum temperature you would like for your trip? \"))"
   ]
  },
  {
   "cell_type": "code",
   "execution_count": 17,
   "id": "8c510705",
   "metadata": {},
   "outputs": [
    {
     "data": {
      "text/html": [
       "<div>\n",
       "<style scoped>\n",
       "    .dataframe tbody tr th:only-of-type {\n",
       "        vertical-align: middle;\n",
       "    }\n",
       "\n",
       "    .dataframe tbody tr th {\n",
       "        vertical-align: top;\n",
       "    }\n",
       "\n",
       "    .dataframe thead th {\n",
       "        text-align: right;\n",
       "    }\n",
       "</style>\n",
       "<table border=\"1\" class=\"dataframe\">\n",
       "  <thead>\n",
       "    <tr style=\"text-align: right;\">\n",
       "      <th></th>\n",
       "      <th>City_ID</th>\n",
       "      <th>City</th>\n",
       "      <th>Country</th>\n",
       "      <th>Date</th>\n",
       "      <th>Lat</th>\n",
       "      <th>Lng</th>\n",
       "      <th>Max Temp</th>\n",
       "      <th>Humidity</th>\n",
       "      <th>Cloudiness</th>\n",
       "      <th>Wind Speed</th>\n",
       "    </tr>\n",
       "  </thead>\n",
       "  <tbody>\n",
       "    <tr>\n",
       "      <th>1</th>\n",
       "      <td>1</td>\n",
       "      <td>Itoman</td>\n",
       "      <td>JP</td>\n",
       "      <td>2022-04-13 18:06:33</td>\n",
       "      <td>26.1247</td>\n",
       "      <td>127.6694</td>\n",
       "      <td>73.42</td>\n",
       "      <td>78</td>\n",
       "      <td>11</td>\n",
       "      <td>5.75</td>\n",
       "    </tr>\n",
       "    <tr>\n",
       "      <th>3</th>\n",
       "      <td>3</td>\n",
       "      <td>East London</td>\n",
       "      <td>ZA</td>\n",
       "      <td>2022-04-13 18:06:34</td>\n",
       "      <td>-33.0153</td>\n",
       "      <td>27.9116</td>\n",
       "      <td>70.90</td>\n",
       "      <td>82</td>\n",
       "      <td>1</td>\n",
       "      <td>3.74</td>\n",
       "    </tr>\n",
       "    <tr>\n",
       "      <th>4</th>\n",
       "      <td>4</td>\n",
       "      <td>Atuona</td>\n",
       "      <td>PF</td>\n",
       "      <td>2022-04-13 18:06:34</td>\n",
       "      <td>-9.8000</td>\n",
       "      <td>-139.0333</td>\n",
       "      <td>78.40</td>\n",
       "      <td>80</td>\n",
       "      <td>44</td>\n",
       "      <td>18.21</td>\n",
       "    </tr>\n",
       "    <tr>\n",
       "      <th>5</th>\n",
       "      <td>5</td>\n",
       "      <td>Kanlagay</td>\n",
       "      <td>PH</td>\n",
       "      <td>2022-04-13 18:06:35</td>\n",
       "      <td>5.8757</td>\n",
       "      <td>121.2915</td>\n",
       "      <td>79.39</td>\n",
       "      <td>84</td>\n",
       "      <td>82</td>\n",
       "      <td>4.92</td>\n",
       "    </tr>\n",
       "    <tr>\n",
       "      <th>6</th>\n",
       "      <td>6</td>\n",
       "      <td>Vao</td>\n",
       "      <td>NC</td>\n",
       "      <td>2022-04-13 18:06:35</td>\n",
       "      <td>-22.6667</td>\n",
       "      <td>167.4833</td>\n",
       "      <td>75.02</td>\n",
       "      <td>68</td>\n",
       "      <td>4</td>\n",
       "      <td>1.05</td>\n",
       "    </tr>\n",
       "  </tbody>\n",
       "</table>\n",
       "</div>"
      ],
      "text/plain": [
       "   City_ID         City Country                 Date      Lat       Lng  \\\n",
       "1        1       Itoman      JP  2022-04-13 18:06:33  26.1247  127.6694   \n",
       "3        3  East London      ZA  2022-04-13 18:06:34 -33.0153   27.9116   \n",
       "4        4       Atuona      PF  2022-04-13 18:06:34  -9.8000 -139.0333   \n",
       "5        5     Kanlagay      PH  2022-04-13 18:06:35   5.8757  121.2915   \n",
       "6        6          Vao      NC  2022-04-13 18:06:35 -22.6667  167.4833   \n",
       "\n",
       "   Max Temp  Humidity  Cloudiness  Wind Speed  \n",
       "1     73.42        78          11        5.75  \n",
       "3     70.90        82           1        3.74  \n",
       "4     78.40        80          44       18.21  \n",
       "5     79.39        84          82        4.92  \n",
       "6     75.02        68           4        1.05  "
      ]
     },
     "execution_count": 17,
     "metadata": {},
     "output_type": "execute_result"
    }
   ],
   "source": [
    "#filter the city_data_df using loc[] method and logical operators to create a new df with the customers criteria\n",
    "#if you get any null values add dropna() at the end of filtering statement\n",
    "preferred_cities_df = city_data_df.loc[(city_data_df[\"Max Temp\"] <= max_temp) & (city_data_df[\"Max Temp\"] >= min_temp)].dropna()\n",
    "preferred_cities_df.head()"
   ]
  },
  {
   "cell_type": "code",
   "execution_count": 18,
   "id": "65f7f8c8",
   "metadata": {},
   "outputs": [
    {
     "data": {
      "text/plain": [
       "City_ID       230\n",
       "City          230\n",
       "Country       230\n",
       "Date          230\n",
       "Lat           230\n",
       "Lng           230\n",
       "Max Temp      230\n",
       "Humidity      230\n",
       "Cloudiness    230\n",
       "Wind Speed    230\n",
       "dtype: int64"
      ]
     },
     "execution_count": 18,
     "metadata": {},
     "output_type": "execute_result"
    }
   ],
   "source": [
    "#det if there are any null values\n",
    "preferred_cities_df.count()"
   ]
  },
  {
   "cell_type": "code",
   "execution_count": 19,
   "id": "8d0959bd",
   "metadata": {},
   "outputs": [
    {
     "data": {
      "text/html": [
       "<div>\n",
       "<style scoped>\n",
       "    .dataframe tbody tr th:only-of-type {\n",
       "        vertical-align: middle;\n",
       "    }\n",
       "\n",
       "    .dataframe tbody tr th {\n",
       "        vertical-align: top;\n",
       "    }\n",
       "\n",
       "    .dataframe thead th {\n",
       "        text-align: right;\n",
       "    }\n",
       "</style>\n",
       "<table border=\"1\" class=\"dataframe\">\n",
       "  <thead>\n",
       "    <tr style=\"text-align: right;\">\n",
       "      <th></th>\n",
       "      <th>City</th>\n",
       "      <th>Country</th>\n",
       "      <th>Max Temp</th>\n",
       "      <th>Lat</th>\n",
       "      <th>Lng</th>\n",
       "      <th>Hotel Name</th>\n",
       "    </tr>\n",
       "  </thead>\n",
       "  <tbody>\n",
       "    <tr>\n",
       "      <th>1</th>\n",
       "      <td>Itoman</td>\n",
       "      <td>JP</td>\n",
       "      <td>73.42</td>\n",
       "      <td>26.1247</td>\n",
       "      <td>127.6694</td>\n",
       "      <td></td>\n",
       "    </tr>\n",
       "    <tr>\n",
       "      <th>3</th>\n",
       "      <td>East London</td>\n",
       "      <td>ZA</td>\n",
       "      <td>70.90</td>\n",
       "      <td>-33.0153</td>\n",
       "      <td>27.9116</td>\n",
       "      <td></td>\n",
       "    </tr>\n",
       "    <tr>\n",
       "      <th>4</th>\n",
       "      <td>Atuona</td>\n",
       "      <td>PF</td>\n",
       "      <td>78.40</td>\n",
       "      <td>-9.8000</td>\n",
       "      <td>-139.0333</td>\n",
       "      <td></td>\n",
       "    </tr>\n",
       "    <tr>\n",
       "      <th>5</th>\n",
       "      <td>Kanlagay</td>\n",
       "      <td>PH</td>\n",
       "      <td>79.39</td>\n",
       "      <td>5.8757</td>\n",
       "      <td>121.2915</td>\n",
       "      <td></td>\n",
       "    </tr>\n",
       "    <tr>\n",
       "      <th>6</th>\n",
       "      <td>Vao</td>\n",
       "      <td>NC</td>\n",
       "      <td>75.02</td>\n",
       "      <td>-22.6667</td>\n",
       "      <td>167.4833</td>\n",
       "      <td></td>\n",
       "    </tr>\n",
       "  </tbody>\n",
       "</table>\n",
       "</div>"
      ],
      "text/plain": [
       "          City Country  Max Temp      Lat       Lng Hotel Name\n",
       "1       Itoman      JP     73.42  26.1247  127.6694           \n",
       "3  East London      ZA     70.90 -33.0153   27.9116           \n",
       "4       Atuona      PF     78.40  -9.8000 -139.0333           \n",
       "5     Kanlagay      PH     79.39   5.8757  121.2915           \n",
       "6          Vao      NC     75.02 -22.6667  167.4833           "
      ]
     },
     "execution_count": 19,
     "metadata": {},
     "output_type": "execute_result"
    }
   ],
   "source": [
    "#get travel destination hotels, make a copy of the preferred cities df since it will change with each search\n",
    "#create a df called hotel_df to store hotel names along with city, country, max temp, and coordinates\n",
    "hotel_df = preferred_cities_df[[\"City\", \"Country\", \"Max Temp\", \"Lat\", \"Lng\"]].copy()\n",
    "hotel_df[\"Hotel Name\"]=\"\"\n",
    "hotel_df.head()"
   ]
  },
  {
   "cell_type": "code",
   "execution_count": 20,
   "id": "8d2fc2c7",
   "metadata": {},
   "outputs": [],
   "source": [
    "#retrieve hotels from a nearby search w/ criteria from the api page \n",
    "#https://developers.google.com/maps/documentation/places/web-service/search#PlaceSearchRequests%0D%0A\n",
    "#need to add Api key as key=, location= as lat,long, radius=, \n",
    "#radius for search up to 50k meters abt 31 miles, and type of place as type=lodging since thats included but hotel is not\n",
    "\n",
    "#Documentation on python requests:https://requests.kennethreitz.org/en/master/\n",
    "#can pass parameters as a dictionary of strings using the params arguement\n",
    "    #paramters = {'key1': 'value1', 'key2': 'value 2'}\n",
    "    #requests.get('base URL', params=parameters)\n",
    "\n"
   ]
  },
  {
   "cell_type": "code",
   "execution_count": 21,
   "id": "7a3cd394",
   "metadata": {},
   "outputs": [
    {
     "name": "stdout",
     "output_type": "stream",
     "text": [
      "Hotel not found... skipping.\n",
      "Hotel not found... skipping.\n",
      "Hotel not found... skipping.\n"
     ]
    }
   ],
   "source": [
    "#set the paramters to search for a hotel\n",
    "params = {\n",
    "    \"radius\": 15000,\n",
    "    \"type\": \"lodging\",\n",
    "    \"key\": g_key\n",
    "}\n",
    "\n",
    "#iterate through the hotel_df\n",
    "    #use the iterrows() function as for index, row in df.iterrows()\n",
    "    #need to provide the index\n",
    "#iterate through the df\n",
    "\n",
    "# for index, row in hotel_df.iterrows():\n",
    "#     #get the lat and long\n",
    "#     lat = row[\"Lat\"]\n",
    "#     lng = row[\"Lng\"]\n",
    "    \n",
    "#     #add the lat and long to location key for the params dict\n",
    "#     params[\"location\"] = f\"{lat},{lng}\"\n",
    "    \n",
    "#     #use the search term lodging and out lat and long\n",
    "#     base_url = \"https://maps.googleapis.com/maps/api/place/nearbysearch/json\"\n",
    "    \n",
    "#     #make the request and get the JSON data from the search\n",
    "#     hotels = requests.get(base_url, params = params).json()\n",
    "    \n",
    "#     #grab the 1st hotel from the results and store the name\n",
    "#         #get an index out of range error so need to try except to fix that error\n",
    "#     try:\n",
    "#         hotel_df.loc[index, \"Hotel Name\"] = hotels['results'][0]['name']\n",
    "#     except (IndexError):\n",
    "#         print(\"Hotel not found... skipping.\")\n",
    "\n",
    "# Iterate through the DataFrame.\n",
    "for index, row in hotel_df.iterrows():\n",
    "    # Get the latitude and longitude.\n",
    "    lat = row[\"Lat\"]\n",
    "    lng = row[\"Lng\"]\n",
    "\n",
    "    # Add the latitude and longitude to location key for the params dictionary.\n",
    "    params[\"location\"] = f\"{lat},{lng}\"\n",
    "\n",
    "    # Use the search term: \"lodging\" and our latitude and longitude.\n",
    "    base_url = \"https://maps.googleapis.com/maps/api/place/nearbysearch/json\"\n",
    "    # Make request and get the JSON data from the search.\n",
    "    hotels = requests.get(base_url, params=params).json()\n",
    "# Grab the first hotel from the results and store the name.\n",
    "    try:\n",
    "        hotel_df.loc[index, \"Hotel Name\"] = hotels[\"results\"][0][\"name\"]\n",
    "    except (IndexError):\n",
    "        print(\"Hotel not found... skipping.\")\n"
   ]
  },
  {
   "cell_type": "code",
   "execution_count": 22,
   "id": "7177a893",
   "metadata": {},
   "outputs": [
    {
     "data": {
      "text/html": [
       "<div>\n",
       "<style scoped>\n",
       "    .dataframe tbody tr th:only-of-type {\n",
       "        vertical-align: middle;\n",
       "    }\n",
       "\n",
       "    .dataframe tbody tr th {\n",
       "        vertical-align: top;\n",
       "    }\n",
       "\n",
       "    .dataframe thead th {\n",
       "        text-align: right;\n",
       "    }\n",
       "</style>\n",
       "<table border=\"1\" class=\"dataframe\">\n",
       "  <thead>\n",
       "    <tr style=\"text-align: right;\">\n",
       "      <th></th>\n",
       "      <th>City</th>\n",
       "      <th>Country</th>\n",
       "      <th>Max Temp</th>\n",
       "      <th>Lat</th>\n",
       "      <th>Lng</th>\n",
       "      <th>Hotel Name</th>\n",
       "    </tr>\n",
       "  </thead>\n",
       "  <tbody>\n",
       "    <tr>\n",
       "      <th>1</th>\n",
       "      <td>Itoman</td>\n",
       "      <td>JP</td>\n",
       "      <td>73.42</td>\n",
       "      <td>26.1247</td>\n",
       "      <td>127.6694</td>\n",
       "      <td>Southern Beach Hotel &amp; Resort Okinawa</td>\n",
       "    </tr>\n",
       "    <tr>\n",
       "      <th>3</th>\n",
       "      <td>East London</td>\n",
       "      <td>ZA</td>\n",
       "      <td>70.90</td>\n",
       "      <td>-33.0153</td>\n",
       "      <td>27.9116</td>\n",
       "      <td>Tu Casa</td>\n",
       "    </tr>\n",
       "    <tr>\n",
       "      <th>4</th>\n",
       "      <td>Atuona</td>\n",
       "      <td>PF</td>\n",
       "      <td>78.40</td>\n",
       "      <td>-9.8000</td>\n",
       "      <td>-139.0333</td>\n",
       "      <td>Villa Enata</td>\n",
       "    </tr>\n",
       "    <tr>\n",
       "      <th>5</th>\n",
       "      <td>Kanlagay</td>\n",
       "      <td>PH</td>\n",
       "      <td>79.39</td>\n",
       "      <td>5.8757</td>\n",
       "      <td>121.2915</td>\n",
       "      <td>Sapang Beach</td>\n",
       "    </tr>\n",
       "    <tr>\n",
       "      <th>6</th>\n",
       "      <td>Vao</td>\n",
       "      <td>NC</td>\n",
       "      <td>75.02</td>\n",
       "      <td>-22.6667</td>\n",
       "      <td>167.4833</td>\n",
       "      <td>Le Méridien Ile des Pins</td>\n",
       "    </tr>\n",
       "    <tr>\n",
       "      <th>12</th>\n",
       "      <td>Galle</td>\n",
       "      <td>LK</td>\n",
       "      <td>80.17</td>\n",
       "      <td>6.0367</td>\n",
       "      <td>80.2170</td>\n",
       "      <td>Amangalla</td>\n",
       "    </tr>\n",
       "    <tr>\n",
       "      <th>13</th>\n",
       "      <td>Chuy</td>\n",
       "      <td>UY</td>\n",
       "      <td>71.80</td>\n",
       "      <td>-33.6971</td>\n",
       "      <td>-53.4616</td>\n",
       "      <td>Nuevo Hotel Plaza</td>\n",
       "    </tr>\n",
       "    <tr>\n",
       "      <th>14</th>\n",
       "      <td>Birjand</td>\n",
       "      <td>IR</td>\n",
       "      <td>70.99</td>\n",
       "      <td>32.8663</td>\n",
       "      <td>59.2211</td>\n",
       "      <td>Birjand Tourist Hotel</td>\n",
       "    </tr>\n",
       "    <tr>\n",
       "      <th>15</th>\n",
       "      <td>Manoel Urbano</td>\n",
       "      <td>BR</td>\n",
       "      <td>84.15</td>\n",
       "      <td>-8.8389</td>\n",
       "      <td>-69.2597</td>\n",
       "      <td>Baixada Beira Rio</td>\n",
       "    </tr>\n",
       "    <tr>\n",
       "      <th>16</th>\n",
       "      <td>Puerto Ayora</td>\n",
       "      <td>EC</td>\n",
       "      <td>80.56</td>\n",
       "      <td>-0.7393</td>\n",
       "      <td>-90.3518</td>\n",
       "      <td>Finch Bay Galapagos Hotel</td>\n",
       "    </tr>\n",
       "  </tbody>\n",
       "</table>\n",
       "</div>"
      ],
      "text/plain": [
       "             City Country  Max Temp      Lat       Lng  \\\n",
       "1          Itoman      JP     73.42  26.1247  127.6694   \n",
       "3     East London      ZA     70.90 -33.0153   27.9116   \n",
       "4          Atuona      PF     78.40  -9.8000 -139.0333   \n",
       "5        Kanlagay      PH     79.39   5.8757  121.2915   \n",
       "6             Vao      NC     75.02 -22.6667  167.4833   \n",
       "12          Galle      LK     80.17   6.0367   80.2170   \n",
       "13           Chuy      UY     71.80 -33.6971  -53.4616   \n",
       "14        Birjand      IR     70.99  32.8663   59.2211   \n",
       "15  Manoel Urbano      BR     84.15  -8.8389  -69.2597   \n",
       "16   Puerto Ayora      EC     80.56  -0.7393  -90.3518   \n",
       "\n",
       "                               Hotel Name  \n",
       "1   Southern Beach Hotel & Resort Okinawa  \n",
       "3                                 Tu Casa  \n",
       "4                             Villa Enata  \n",
       "5                            Sapang Beach  \n",
       "6                Le Méridien Ile des Pins  \n",
       "12                              Amangalla  \n",
       "13                      Nuevo Hotel Plaza  \n",
       "14                  Birjand Tourist Hotel  \n",
       "15                      Baixada Beira Rio  \n",
       "16              Finch Bay Galapagos Hotel  "
      ]
     },
     "execution_count": 22,
     "metadata": {},
     "output_type": "execute_result"
    }
   ],
   "source": [
    "hotel_df.head(10)\n"
   ]
  },
  {
   "cell_type": "code",
   "execution_count": 40,
   "id": "9414f341",
   "metadata": {},
   "outputs": [
    {
     "data": {
      "application/vnd.jupyter.widget-view+json": {
       "model_id": "ec1d4600b13f41d6a4d60b9e7889af6f",
       "version_major": 2,
       "version_minor": 0
      },
      "text/plain": [
       "Figure(layout=FigureLayout(height='420px'))"
      ]
     },
     "metadata": {},
     "output_type": "display_data"
    }
   ],
   "source": [
    "#Add a heatmap of vacation spots\n",
    "locations = hotel_df[[\"Lat\", \"Lng\"]]\n",
    "max_temp = hotel_df[\"Max Temp\"]\n",
    "heat_layer = gmaps.heatmap_layer(locations, weights = max_temp, dissipating=False, max_intensity = 400, point_radius=5)\n",
    "#add markers for each city w/ marker layer\n",
    "marker_layer = gmaps.marker_layer(locations)\n",
    "fig.add_layer(heat_layer)\n",
    "#add markers to fig\n",
    "fig.add_layer(marker_layer)\n",
    "#call the fig to plot the data\n",
    "fig"
   ]
  },
  {
   "cell_type": "code",
   "execution_count": null,
   "id": "88338206",
   "metadata": {},
   "outputs": [],
   "source": [
    "#HTML coding to add in pop-up marker for each city with hotel and city name, country, and max temp\n",
    "# to make the box assign a variable to 3 quotes \"\"\"\" to assign to multiline string\n",
    "# text inside is HTML -- defined by the opening and closing of angular brackets<> \n",
    "    #the opening <> has some text inside like:\n",
    "#         <dl> tag - is a description list (layer 1)\n",
    "#         <dt> tag - a term or name in a dl that is nested under the dl tag (layer 2)\n",
    "#         <dd> tag - used to define the term or name or <dt> tag (layer 3)\n",
    "#the closing angular bracket is preceded by a forward-slash / \n",
    "#text inside an angular brackets are celled tags\n",
    "\n",
    "\n",
    "3"
   ]
  },
  {
   "cell_type": "code",
   "execution_count": null,
   "id": "38c5c8b8",
   "metadata": {},
   "outputs": [],
   "source": []
  },
  {
   "cell_type": "code",
   "execution_count": null,
   "id": "ebd58577",
   "metadata": {},
   "outputs": [],
   "source": []
  },
  {
   "cell_type": "code",
   "execution_count": null,
   "id": "22cc7837",
   "metadata": {},
   "outputs": [],
   "source": []
  }
 ],
 "metadata": {
  "kernelspec": {
   "display_name": "Python 3 (ipykernel)",
   "language": "python",
   "name": "python3"
  },
  "language_info": {
   "codemirror_mode": {
    "name": "ipython",
    "version": 3
   },
   "file_extension": ".py",
   "mimetype": "text/x-python",
   "name": "python",
   "nbconvert_exporter": "python",
   "pygments_lexer": "ipython3",
   "version": "3.9.7"
  }
 },
 "nbformat": 4,
 "nbformat_minor": 5
}
