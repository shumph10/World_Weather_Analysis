{
 "cells": [
  {
   "cell_type": "code",
   "execution_count": 1,
   "id": "da3027bb",
   "metadata": {},
   "outputs": [],
   "source": [
    "# Create a practice set of random latitude and longitude combinations.\n",
    "x = [25.12903645, 25.92017388, 26.62509167, -59.98969384, 37.30571269]\n",
    "y = [-67.59741259, 11.09532135, 74.84233102, -76.89176677, -61.13376282]\n",
    "coordinates = zip(x, y)"
   ]
  },
  {
   "cell_type": "code",
   "execution_count": 2,
   "id": "76bd18b5",
   "metadata": {},
   "outputs": [],
   "source": [
    "# #display the coordinate pairs \n",
    "# #use the tuple() funct to display the lat,long combos\n",
    "# for coordinate in coordinates:\n",
    "#     print(coordinate[0], coordinate[1])"
   ]
  },
  {
   "cell_type": "code",
   "execution_count": 3,
   "id": "d01c451c",
   "metadata": {},
   "outputs": [
    {
     "name": "stdout",
     "output_type": "stream",
     "text": [
      "Requirement already satisfied: citipy in c:\\users\\pc\\.conda\\envs\\pythondata\\lib\\site-packages (0.0.5)\n",
      "Requirement already satisfied: kdtree>=0.12 in c:\\users\\pc\\.conda\\envs\\pythondata\\lib\\site-packages (from citipy) (0.16)\n",
      "Note: you may need to restart the kernel to use updated packages.\n"
     ]
    }
   ],
   "source": [
    "pip install citipy"
   ]
  },
  {
   "cell_type": "code",
   "execution_count": 4,
   "id": "10ffff8b",
   "metadata": {},
   "outputs": [
    {
     "name": "stdout",
     "output_type": "stream",
     "text": [
      "cockburn town tc\n",
      "gat ly\n",
      "parvatsar in\n",
      "punta arenas cl\n",
      "saint george bm\n"
     ]
    }
   ],
   "source": [
    "# #use the citipy module to det the city based on lat & long\n",
    "# #import dependency\n",
    "# from citipy import citipy\n",
    "# #Use the tuple() function to display the lat and long combos\n",
    "# #find city and county by creating a for loop\n",
    "# for coordinate in coordinates:\n",
    "#     #use citipy.nearest_city() and nearest_country() and add coordinate[] location inside () to gen\n",
    "#     #to print chain the .city_name or .country_name to the end\n",
    "#     print(citipy.nearest_city(coordinate[0],coordinate[1]).city_name,\n",
    "#           citipy,nearest_country(coordinate[0], coordinate[1]).country_name\n",
    "#          )\n",
    "# Use the tuple() function to display the latitude and longitude combinations.\n",
    "# Use the citipy module to determine city based on latitude and longitude.\n",
    "from citipy import citipy\n",
    "for coordinate in coordinates:\n",
    "    print(citipy.nearest_city(coordinate[0], coordinate[1]).city_name,\n",
    "          citipy.nearest_city(coordinate[0], coordinate[1]).country_code)"
   ]
  },
  {
   "cell_type": "code",
   "execution_count": 5,
   "id": "66739eca",
   "metadata": {},
   "outputs": [],
   "source": [
    "#import requests lib\n",
    "import requests\n",
    "\n",
    "#Import API key\n",
    "from config import weather_api_key\n"
   ]
  },
  {
   "cell_type": "code",
   "execution_count": 6,
   "id": "b9a1f8ef",
   "metadata": {},
   "outputs": [],
   "source": [
    "#to make an API call you have to use the URL provided on the corresponding website\n",
    "#look at documentation abt how to make an API call to get url to use\n",
    "#starting URL for Weather Map API Call -- url = url_provided + API_code\n",
    "    ##added units=Imperial for unit options\n",
    "        #options for units are imperial, standard, & metric\n",
    "url = \"http://api.openweathermap.org/data/2.5/weather?units=Imperial&APPID=\" + weather_api_key\n",
    "# print(url)\n",
    "##delete printed url to make sure your private API key isn't stored in plain text -- can steal and rack up charges on account"
   ]
  },
  {
   "cell_type": "code",
   "execution_count": 7,
   "id": "8a755abc",
   "metadata": {},
   "outputs": [
    {
     "name": "stdout",
     "output_type": "stream",
     "text": [
      "http://api.openweathermap.org/data/2.5/weather?units=Imperial&APPID=5d712737c137cee0b111931c020fed2f&q=Boston\n"
     ]
    }
   ],
   "source": [
    "#get an error message on url bc no cities have been added to get info for\n",
    "#create an endpoint URL for a city\n",
    "# Create an endpoint URL for a city.\n",
    "city_url = url + \"&q=\" + \"Boston\"\n",
    "print(city_url)\n",
    "#prints new url with data for weather in boston\n",
    "#add JSONView chrome extension to be able to see in JSON {} format rather than a long line of text"
   ]
  },
  {
   "cell_type": "code",
   "execution_count": 8,
   "id": "288734a4",
   "metadata": {},
   "outputs": [],
   "source": [
    "#use .get() method to request data from an APT\n",
    "#requests library options:\n",
    "## use head() to get headers\n",
    "## use post() to annotates data on a web source\n",
    "## put() updates an existing source ex. updating a wiki pages\n",
    "## delete - deletes data from a web source\n",
    "## options() discovers what HTTP methods a web source allows\n",
    "## patch() partially modifies a web source"
   ]
  },
  {
   "cell_type": "code",
   "execution_count": 9,
   "id": "d19847a5",
   "metadata": {},
   "outputs": [
    {
     "data": {
      "text/plain": [
       "200"
      ]
     },
     "execution_count": 9,
     "metadata": {},
     "output_type": "execute_result"
    }
   ],
   "source": [
    "#Make a Get request for the city weather\n",
    "city_weather = requests.get(city_url)\n",
    "city_weather\n",
    "\n",
    "#can directly get the response code(shows works properly) with:\n",
    "city_weather.status_code\n",
    "\n",
    "#if the city does not exist or there is no data for it youll get a 404 error response"
   ]
  },
  {
   "cell_type": "code",
   "execution_count": 10,
   "id": "46c5e9fe",
   "metadata": {},
   "outputs": [
    {
     "data": {
      "text/plain": [
       "<Response [200]>"
      ]
     },
     "execution_count": 10,
     "metadata": {},
     "output_type": "execute_result"
    }
   ],
   "source": [
    "# Create an endpoint URL for a city.\n",
    "city_url = url + \"&q=\" + \"Boston\"\n",
    "city_weather = requests.get(city_url)\n",
    "city_weather"
   ]
  },
  {
   "cell_type": "code",
   "execution_count": 11,
   "id": "4467c09c",
   "metadata": {},
   "outputs": [
    {
     "data": {
      "text/plain": [
       "{'coord': {'lon': -71.0598, 'lat': 42.3584},\n",
       " 'weather': [{'id': 800,\n",
       "   'main': 'Clear',\n",
       "   'description': 'clear sky',\n",
       "   'icon': '01d'}],\n",
       " 'base': 'stations',\n",
       " 'main': {'temp': 51.93,\n",
       "  'feels_like': 49.08,\n",
       "  'temp_min': 48.99,\n",
       "  'temp_max': 55.45,\n",
       "  'pressure': 1017,\n",
       "  'humidity': 48},\n",
       " 'visibility': 10000,\n",
       " 'wind': {'speed': 11.5, 'deg': 300},\n",
       " 'clouds': {'all': 0},\n",
       " 'dt': 1649689423,\n",
       " 'sys': {'type': 2,\n",
       "  'id': 2013408,\n",
       "  'country': 'US',\n",
       "  'sunrise': 1649671777,\n",
       "  'sunset': 1649719229},\n",
       " 'timezone': -14400,\n",
       " 'id': 4930956,\n",
       " 'name': 'Boston',\n",
       " 'cod': 200}"
      ]
     },
     "execution_count": 11,
     "metadata": {},
     "output_type": "execute_result"
    }
   ],
   "source": [
    "#apply format attributes (options are text, JSON, XML, or HTML) to get the data into a useful format to look at\n",
    "# #get the text of the get request\n",
    "# city_weather.text\n",
    "\n",
    "#get the JSON text of the Get response\n",
    "    #since in dictionary format can call on info later -- way more useful\n",
    "city_weather.json()"
   ]
  },
  {
   "cell_type": "code",
   "execution_count": 12,
   "id": "d8897adb",
   "metadata": {},
   "outputs": [
    {
     "name": "stdout",
     "output_type": "stream",
     "text": [
      "City Weather found.\n"
     ]
    }
   ],
   "source": [
    "#Need to get 200 as a response to show that there is data for what were looking for\n",
    "    #can make a for loop to see if the response is 200 or not found\n",
    "# Create an endpoint URL for a city.\n",
    "city_url = url + \"&q=\" + \"Boston\"\n",
    "city_weather = requests.get(city_url)\n",
    "#add the if else statement to the status code print out\n",
    "if city_weather.status_code == 200:\n",
    "    print(f\"City Weather found.\")\n",
    "else:\n",
    "    print(f\"City weather not found.\")"
   ]
  },
  {
   "cell_type": "code",
   "execution_count": 13,
   "id": "32c7303e",
   "metadata": {},
   "outputs": [
    {
     "name": "stdout",
     "output_type": "stream",
     "text": [
      "City weather not found.\n"
     ]
    }
   ],
   "source": [
    "#see if you mispell what would print out\n",
    "# Create an endpoint URL for a city.\n",
    "city_url = url + \"&q=\" + \"Bston\"\n",
    "city_weather = requests.get(city_url)\n",
    "if city_weather.status_code == 200:\n",
    "    print(f\"City Weather found.\")\n",
    "else:\n",
    "    print(f\"City weather not found.\")"
   ]
  },
  {
   "cell_type": "code",
   "execution_count": 14,
   "id": "ce47d2be",
   "metadata": {},
   "outputs": [
    {
     "data": {
      "text/plain": [
       "{'coord': {'lon': -71.0598, 'lat': 42.3584},\n",
       " 'weather': [{'id': 800,\n",
       "   'main': 'Clear',\n",
       "   'description': 'clear sky',\n",
       "   'icon': '01d'}],\n",
       " 'base': 'stations',\n",
       " 'main': {'temp': 51.93,\n",
       "  'feels_like': 49.08,\n",
       "  'temp_min': 48.99,\n",
       "  'temp_max': 55.45,\n",
       "  'pressure': 1017,\n",
       "  'humidity': 48},\n",
       " 'visibility': 10000,\n",
       " 'wind': {'speed': 11.5, 'deg': 300},\n",
       " 'clouds': {'all': 0},\n",
       " 'dt': 1649689423,\n",
       " 'sys': {'type': 2,\n",
       "  'id': 2013408,\n",
       "  'country': 'US',\n",
       "  'sunrise': 1649671777,\n",
       "  'sunset': 1649719229},\n",
       " 'timezone': -14400,\n",
       " 'id': 4930956,\n",
       " 'name': 'Boston',\n",
       " 'cod': 200}"
      ]
     },
     "execution_count": 14,
     "metadata": {},
     "output_type": "execute_result"
    }
   ],
   "source": [
    "city_url = url + \"&q=\" + \"Boston\"\n",
    "city_weather = requests.get(city_url)\n",
    "city_weather.json()"
   ]
  },
  {
   "cell_type": "code",
   "execution_count": 15,
   "id": "96de4bf1",
   "metadata": {},
   "outputs": [],
   "source": [
    "# Get the JSON data.\n",
    "boston_data = city_weather.json()"
   ]
  },
  {
   "cell_type": "code",
   "execution_count": 16,
   "id": "2cebf4ec",
   "metadata": {},
   "outputs": [
    {
     "data": {
      "text/plain": [
       "datetime.datetime(2022, 4, 11, 15, 3, 43)"
      ]
     },
     "execution_count": 16,
     "metadata": {},
     "output_type": "execute_result"
    }
   ],
   "source": [
    "#import the datetime module from the datetime lib\n",
    "from datetime import datetime\n",
    "#get the ddate from the JSON file\n",
    "date= boston_data['dt']\n",
    "#convert the UTC date to a date with format YYYY:MM:DD:HH:MM:SS\n",
    "datetime.utcfromtimestamp(date)"
   ]
  },
  {
   "cell_type": "code",
   "execution_count": 17,
   "id": "d24481c0",
   "metadata": {},
   "outputs": [
    {
     "data": {
      "text/plain": [
       "'2022-04-11 15:03:43'"
      ]
     },
     "execution_count": 17,
     "metadata": {},
     "output_type": "execute_result"
    }
   ],
   "source": [
    "#convert the datetime into Python String format with strftime() & adding how you want the string to look in the ()\n",
    "datetime.utcfromtimestamp(date).strftime('%Y-%m-%d %H:%M:%S')"
   ]
  },
  {
   "cell_type": "code",
   "execution_count": null,
   "id": "d4e3080a",
   "metadata": {},
   "outputs": [],
   "source": []
  }
 ],
 "metadata": {
  "kernelspec": {
   "display_name": "PythonData",
   "language": "python",
   "name": "pythondata"
  },
  "language_info": {
   "codemirror_mode": {
    "name": "ipython",
    "version": 3
   },
   "file_extension": ".py",
   "mimetype": "text/x-python",
   "name": "python",
   "nbconvert_exporter": "python",
   "pygments_lexer": "ipython3",
   "version": "3.9.7"
  }
 },
 "nbformat": 4,
 "nbformat_minor": 5
}
