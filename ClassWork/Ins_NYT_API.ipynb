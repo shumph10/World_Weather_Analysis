{
 "cells": [
  {
   "cell_type": "code",
   "execution_count": 4,
   "metadata": {},
   "outputs": [],
   "source": [
    "# Dependencies\n",
    "import requests\n",
    "import json\n",
    "from pprint import pprint\n",
    "from config import nyt_key\n",
    "\n",
    "url = \"https://api.nytimes.com/svc/search/v2/articlesearch.json?\""
   ]
  },
  {
   "cell_type": "code",
   "execution_count": 5,
   "metadata": {},
   "outputs": [],
   "source": [
    "# Search for articles that mention granola\n",
    "query = \"COVID\""
   ]
  },
  {
   "cell_type": "code",
   "execution_count": 17,
   "metadata": {},
   "outputs": [],
   "source": [
    "# Build query URL\n",
    "    #need the q= bc thats the query in the url\n",
    "    #put in a begin date and sort relevence bc thats what we put in on the article search on the nyt page\n",
    "    #dont print and save or push to git hub, will always be able to see it & others can get  your key\n",
    "q_url = url + \"q=\" + query + \"&api-key=\" + nyt_key + \"&begin_date=20220411&sort=relevance\"\n",
    "# print(q_url)\n",
    "\n",
    "# f_url = f\"{url}q={query}&api-key={nyt_key}begin_date=20220411&sort=relevance\"\n",
    "#shorter and easier to read"
   ]
  },
  {
   "cell_type": "code",
   "execution_count": 18,
   "metadata": {},
   "outputs": [
    {
     "name": "stdout",
     "output_type": "stream",
     "text": [
      "<Response [200]>\n"
     ]
    }
   ],
   "source": [
    "# Request articles\n",
    "resp = requests.get(q_url)\n",
    "print(resp)\n",
    "# The \"response\" property in articles contains the actual articles\n",
    "# list comprehension"
   ]
  },
  {
   "cell_type": "code",
   "execution_count": 19,
   "metadata": {},
   "outputs": [],
   "source": [
    "#look at documentation to get what you want ex. url, main headline, person (author) --\n",
    "#the names of the columns are in the documentations\n",
    "    #can look at the diff tiers in the dictionary and see what you need step by step\n",
    "        #chain the key names to drill down to what youre looking for\n",
    "# resp.json()['response']['docs'][0]['web_url']\n",
    "    #once you find a way to get the 1st one -- can loop through the rest of them since they all\n",
    "    #should have those keys\n",
    "    \n",
    "#dec empty lists to store info \n",
    "    #and add .append rather than printing\n",
    "web_urls = []\n",
    "headlines = []\n",
    "\n",
    "#set up to be at the biggest branch that has all the responses you want\n",
    "    #then drill down to the exact data you want in the [] for the appends\n",
    "\n",
    "for document in resp.json()['response']['docs']:\n",
    "    web_urls.append(document['web_url'])\n",
    "    headlines.append(document['headline']['main'])"
   ]
  },
  {
   "cell_type": "code",
   "execution_count": 20,
   "metadata": {},
   "outputs": [
    {
     "data": {
      "text/html": [
       "<div>\n",
       "<style scoped>\n",
       "    .dataframe tbody tr th:only-of-type {\n",
       "        vertical-align: middle;\n",
       "    }\n",
       "\n",
       "    .dataframe tbody tr th {\n",
       "        vertical-align: top;\n",
       "    }\n",
       "\n",
       "    .dataframe thead th {\n",
       "        text-align: right;\n",
       "    }\n",
       "</style>\n",
       "<table border=\"1\" class=\"dataframe\">\n",
       "  <thead>\n",
       "    <tr style=\"text-align: right;\">\n",
       "      <th></th>\n",
       "      <th>article</th>\n",
       "      <th>web_url</th>\n",
       "    </tr>\n",
       "  </thead>\n",
       "  <tbody>\n",
       "    <tr>\n",
       "      <th>0</th>\n",
       "      <td>New Drug Slashed Deaths Among Patients With Se...</td>\n",
       "      <td>https://www.nytimes.com/2022/04/11/health/covi...</td>\n",
       "    </tr>\n",
       "    <tr>\n",
       "      <th>1</th>\n",
       "      <td>From the U.S. to China: A 3-Month Quarantine H...</td>\n",
       "      <td>https://www.nytimes.com/2022/04/12/world/asia/...</td>\n",
       "    </tr>\n",
       "    <tr>\n",
       "      <th>2</th>\n",
       "      <td>China Sets Aside Push to Spread Wealth in Pivo...</td>\n",
       "      <td>https://www.nytimes.com/2022/04/12/business/ch...</td>\n",
       "    </tr>\n",
       "    <tr>\n",
       "      <th>3</th>\n",
       "      <td>Covid in the Northeast</td>\n",
       "      <td>https://www.nytimes.com/2022/04/12/briefing/co...</td>\n",
       "    </tr>\n",
       "    <tr>\n",
       "      <th>4</th>\n",
       "      <td>The Unbelievable Stupidity of Ending Global Co...</td>\n",
       "      <td>https://www.nytimes.com/2022/04/11/opinion/end...</td>\n",
       "    </tr>\n",
       "    <tr>\n",
       "      <th>5</th>\n",
       "      <td>On Day 100, Mayor Adams Has Covid-19</td>\n",
       "      <td>https://www.nytimes.com/2022/04/11/nyregion/on...</td>\n",
       "    </tr>\n",
       "    <tr>\n",
       "      <th>6</th>\n",
       "      <td>As U.S. cases tick up, the new White House Cov...</td>\n",
       "      <td>https://www.nytimes.com/2022/04/11/us/politics...</td>\n",
       "    </tr>\n",
       "    <tr>\n",
       "      <th>7</th>\n",
       "      <td>Tell Us Your Antiviral Story</td>\n",
       "      <td>https://www.nytimes.com/2022/04/11/us/tell-us-...</td>\n",
       "    </tr>\n",
       "    <tr>\n",
       "      <th>8</th>\n",
       "      <td>As Families Grieve, Grandparents Step Up</td>\n",
       "      <td>https://www.nytimes.com/interactive/2022/04/12...</td>\n",
       "    </tr>\n",
       "    <tr>\n",
       "      <th>9</th>\n",
       "      <td>Philadelphia to Reinstate Indoor Mask Mandate</td>\n",
       "      <td>https://www.nytimes.com/video/us/politics/1000...</td>\n",
       "    </tr>\n",
       "  </tbody>\n",
       "</table>\n",
       "</div>"
      ],
      "text/plain": [
       "                                             article  \\\n",
       "0  New Drug Slashed Deaths Among Patients With Se...   \n",
       "1  From the U.S. to China: A 3-Month Quarantine H...   \n",
       "2  China Sets Aside Push to Spread Wealth in Pivo...   \n",
       "3                             Covid in the Northeast   \n",
       "4  The Unbelievable Stupidity of Ending Global Co...   \n",
       "5               On Day 100, Mayor Adams Has Covid-19   \n",
       "6  As U.S. cases tick up, the new White House Cov...   \n",
       "7                       Tell Us Your Antiviral Story   \n",
       "8           As Families Grieve, Grandparents Step Up   \n",
       "9      Philadelphia to Reinstate Indoor Mask Mandate   \n",
       "\n",
       "                                             web_url  \n",
       "0  https://www.nytimes.com/2022/04/11/health/covi...  \n",
       "1  https://www.nytimes.com/2022/04/12/world/asia/...  \n",
       "2  https://www.nytimes.com/2022/04/12/business/ch...  \n",
       "3  https://www.nytimes.com/2022/04/12/briefing/co...  \n",
       "4  https://www.nytimes.com/2022/04/11/opinion/end...  \n",
       "5  https://www.nytimes.com/2022/04/11/nyregion/on...  \n",
       "6  https://www.nytimes.com/2022/04/11/us/politics...  \n",
       "7  https://www.nytimes.com/2022/04/11/us/tell-us-...  \n",
       "8  https://www.nytimes.com/interactive/2022/04/12...  \n",
       "9  https://www.nytimes.com/video/us/politics/1000...  "
      ]
     },
     "execution_count": 20,
     "metadata": {},
     "output_type": "execute_result"
    }
   ],
   "source": [
    "\n",
    "import pandas as pd\n",
    "pd.DataFrame({'article': headlines, 'web_url': web_urls})"
   ]
  },
  {
   "cell_type": "code",
   "execution_count": null,
   "metadata": {},
   "outputs": [],
   "source": [
    "# Print the web_url of each stored article"
   ]
  }
 ],
 "metadata": {
  "kernelspec": {
   "display_name": "Python 3 (ipykernel)",
   "language": "python",
   "name": "python3"
  },
  "language_info": {
   "codemirror_mode": {
    "name": "ipython",
    "version": 3
   },
   "file_extension": ".py",
   "mimetype": "text/x-python",
   "name": "python",
   "nbconvert_exporter": "python",
   "pygments_lexer": "ipython3",
   "version": "3.9.7"
  },
  "varInspector": {
   "cols": {
    "lenName": 16,
    "lenType": 16,
    "lenVar": 40
   },
   "kernels_config": {
    "python": {
     "delete_cmd_postfix": "",
     "delete_cmd_prefix": "del ",
     "library": "var_list.py",
     "varRefreshCmd": "print(var_dic_list())"
    },
    "r": {
     "delete_cmd_postfix": ") ",
     "delete_cmd_prefix": "rm(",
     "library": "var_list.r",
     "varRefreshCmd": "cat(var_dic_list()) "
    }
   },
   "types_to_exclude": [
    "module",
    "function",
    "builtin_function_or_method",
    "instance",
    "_Feature"
   ],
   "window_display": false
  }
 },
 "nbformat": 4,
 "nbformat_minor": 2
}
