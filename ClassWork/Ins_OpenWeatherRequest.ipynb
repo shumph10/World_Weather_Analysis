{
 "cells": [
  {
   "cell_type": "code",
   "execution_count": 2,
   "metadata": {},
   "outputs": [],
   "source": [
    "# Dependencies\n",
    "import json\n",
    "import requests\n",
    "from config import weather_api_key"
   ]
  },
  {
   "cell_type": "code",
   "execution_count": 13,
   "metadata": {},
   "outputs": [],
   "source": [
    "# Save config information\n",
    "url = \"https://api.openweathermap.org/data/2.5/weather?\"\n",
    "city = \"London\"\n",
    "\n",
    "# Build query URL\n",
    "#know you need the q= bc its in the documentation labeled as req\n",
    "    #add the units in the url to convert the units to metric, imperial or\n",
    "query_url = f\"{url}q={city}&appid={weather_api_key}\""
   ]
  },
  {
   "cell_type": "code",
   "execution_count": 14,
   "metadata": {},
   "outputs": [
    {
     "name": "stdout",
     "output_type": "stream",
     "text": [
      "<Response [200]>\n",
      "Temp  10.550000000000011\n"
     ]
    }
   ],
   "source": [
    "def KtoC(num: float) -> float:\n",
    "    return num - 273\n",
    "\n",
    "# Get weather data\n",
    "resp = requests.get(query_url)\n",
    "print(resp)\n",
    "# Get the temperature from the response\n",
    "temp = KtoC(resp.json()['main']['temp'])\n",
    "\n",
    "#wouldnt have a temp above 100 celcius can do the conversion with math or in the url\n",
    "    #can also wrap a function around the temp = above instead of doing the calc manually down below\n",
    "# if temp > 100:\n",
    "#     temp = temp - 273\n",
    "print(\"Temp \", temp)"
   ]
  },
  {
   "cell_type": "code",
   "execution_count": 15,
   "metadata": {},
   "outputs": [
    {
     "name": "stdout",
     "output_type": "stream",
     "text": [
      "{\n",
      "  \"coord\": {\n",
      "    \"lon\": -0.1257,\n",
      "    \"lat\": 51.5085\n",
      "  },\n",
      "  \"weather\": [\n",
      "    {\n",
      "      \"id\": 801,\n",
      "      \"main\": \"Clouds\",\n",
      "      \"description\": \"few clouds\",\n",
      "      \"icon\": \"02n\"\n",
      "    }\n",
      "  ],\n",
      "  \"base\": \"stations\",\n",
      "  \"main\": {\n",
      "    \"temp\": 283.55,\n",
      "    \"feels_like\": 283.02,\n",
      "    \"temp_min\": 282.31,\n",
      "    \"temp_max\": 284.34,\n",
      "    \"pressure\": 1012,\n",
      "    \"humidity\": 91\n",
      "  },\n",
      "  \"visibility\": 10000,\n",
      "  \"wind\": {\n",
      "    \"speed\": 2.57,\n",
      "    \"deg\": 230\n",
      "  },\n",
      "  \"clouds\": {\n",
      "    \"all\": 23\n",
      "  },\n",
      "  \"dt\": 1649814392,\n",
      "  \"sys\": {\n",
      "    \"type\": 2,\n",
      "    \"id\": 2019646,\n",
      "    \"country\": \"GB\",\n",
      "    \"sunrise\": 1649826553,\n",
      "    \"sunset\": 1649875948\n",
      "  },\n",
      "  \"timezone\": 3600,\n",
      "  \"id\": 2643743,\n",
      "  \"name\": \"London\",\n",
      "  \"cod\": 200\n",
      "}\n"
     ]
    }
   ],
   "source": [
    "#pretty print the json \n",
    "print(json.dumps(resp.json(),indent=2))"
   ]
  },
  {
   "cell_type": "code",
   "execution_count": null,
   "metadata": {},
   "outputs": [],
   "source": []
  }
 ],
 "metadata": {
  "kernelspec": {
   "display_name": "Python 3 (ipykernel)",
   "language": "python",
   "name": "python3"
  },
  "language_info": {
   "codemirror_mode": {
    "name": "ipython",
    "version": 3
   },
   "file_extension": ".py",
   "mimetype": "text/x-python",
   "name": "python",
   "nbconvert_exporter": "python",
   "pygments_lexer": "ipython3",
   "version": "3.9.7"
  },
  "varInspector": {
   "cols": {
    "lenName": 16,
    "lenType": 16,
    "lenVar": 40
   },
   "kernels_config": {
    "python": {
     "delete_cmd_postfix": "",
     "delete_cmd_prefix": "del ",
     "library": "var_list.py",
     "varRefreshCmd": "print(var_dic_list())"
    },
    "r": {
     "delete_cmd_postfix": ") ",
     "delete_cmd_prefix": "rm(",
     "library": "var_list.r",
     "varRefreshCmd": "cat(var_dic_list()) "
    }
   },
   "types_to_exclude": [
    "module",
    "function",
    "builtin_function_or_method",
    "instance",
    "_Feature"
   ],
   "window_display": false
  }
 },
 "nbformat": 4,
 "nbformat_minor": 2
}
