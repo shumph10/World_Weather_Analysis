{
 "cells": [
  {
   "cell_type": "code",
   "execution_count": 1,
   "id": "611d7e18",
   "metadata": {},
   "outputs": [
    {
     "ename": "IndentationError",
     "evalue": "unexpected indent (1523262686.py, line 43)",
     "output_type": "error",
     "traceback": [
      "\u001b[1;36m  Input \u001b[1;32mIn [1]\u001b[1;36m\u001b[0m\n\u001b[1;33m    city_country = city_weather[\"sys\"][\"country\"]\u001b[0m\n\u001b[1;37m    ^\u001b[0m\n\u001b[1;31mIndentationError\u001b[0m\u001b[1;31m:\u001b[0m unexpected indent\n"
     ]
    }
   ],
   "source": [
    "#create an empty list to hold the weather data\n",
    "city_data = []\n",
    "#print the beginning of logging\n",
    "print(\"Beginning Data Retrieval          \")\n",
    "print(\"----------------------------------\")\n",
    "#create counters\n",
    "record_count = 1\n",
    "set_count = 1\n",
    "\n",
    "#loop through all the cities in list, add city name\n",
    "for i, city in enumerate(cities):\n",
    "    #using enumerate allist to iterate through the list of cities and retrieve both the index and city name from list\n",
    "    \n",
    "    #group cities in sets of 50 for logging purposes-- prevents time outs\n",
    "    if (i % 50 == 0 and i >=50):\n",
    "        #checks if the remainder of index / 50 is = 0 and if >= 50\n",
    "            #if true then increment set & record count by 1\n",
    "        set_count += 1\n",
    "        record_count = 1\n",
    "        #make the program pause for 60 sec to avoid time out of API calls\n",
    "        time.sleep(60)\n",
    "        \n",
    "    #create endpoint url with each city\n",
    "    #city_url = url + \"&q=\" + cities[i]\n",
    "    #fix to add city name not index\n",
    "    city_url = url + \"&q=\" + city.replace(\" \",\"+\")\n",
    "    print(f\"Processing Record {record_count} of Set {set_count} | {city}\")\n",
    "    \n",
    "    #Add 1 to the record count\n",
    "    record_count += 1\n",
    "    \n",
    "    #run an API request for each of the cities\n",
    "    try:\n",
    "        #Parse the JSON data and retrieve data\n",
    "        city_weather = requests.get(city_url).json()\n",
    "        #Parse out the data needed\n",
    "        city_lat = city_weather[\"coord\"][\"lat\"]\n",
    "        city_lng = city_weather[\"coord\"][\"lon\"]\n",
    "        city_max_temp = city_weather[\"main\"][\"temp_max\"]\n",
    "        city_humidity = city_weather[\"main\"][\"humidity\"]\n",
    "        city_clouds = city_weather[\"clouds\"][\"all\"]\n",
    "        city_wind = city_weather[\"wind\"][\"speed\"]\n",
    "        city_country = city_weather[\"sys\"][\"country\"]\n",
    "        city_weather_description = city_weather_description[\"weather\"][\"description\"]\n",
    "        #convert the date to ISO standard\n",
    "            #access datetime module and requests.get name with col/name to be accessed then .strftime with format you want in ()\n",
    "        city_date = datetime.utcfromtimestamp(city_weather['dt']).strftime('%Y-%m-%d %H:%M:%S')\n",
    "        \n",
    "        #Append the city info into city_data list append list with a dictionary for that city where key value pairs are the values\n",
    "            #from the weather parameters\n",
    "        city_data.append({\"City\" :city.title(),\n",
    "                          \"Lat\": city_lat,\n",
    "                          \"Lng\": city_lng,\n",
    "                          \"Max Temp\": city_max_temp,\n",
    "                          \"Humidity\": city_humidity,\n",
    "                          \"Cloudiness\": city_clouds,\n",
    "                          \"Wind Speed\": city_wind,\n",
    "                          \"Country\": city_country,\n",
    "                          \"Weather Description\": city_weather_description,\n",
    "                          \"Date\": city_date                          \n",
    "                         })\n",
    "        #if an error is experienced -- skip the entry\n",
    "    except:\n",
    "        print(\"City not found. Skipping...\")\n",
    "        pass\n",
    "\n",
    "#Indicate that data loading is complete\n",
    "print(\"-----------------------------\")\n",
    "print(\"Data Retrieval Complete      \")\n",
    "print(\"-----------------------------\")"
   ]
  },
  {
   "cell_type": "code",
   "execution_count": null,
   "id": "5b6cdea4",
   "metadata": {},
   "outputs": [],
   "source": [
    "# Create an endpoint URL for a city.\n",
    "city_url = url + \"&q=\" + \"Bston\"\n",
    "city_weather = requests.get(city_url)\n",
    "if city_weather.status_code == 200:\n",
    "    print(f\"City Weather found.\")\n",
    "else:\n",
    "    print(f\"City weather not found.\")"
   ]
  },
  {
   "cell_type": "code",
   "execution_count": null,
   "id": "55ebe0b2",
   "metadata": {},
   "outputs": [],
   "source": []
  },
  {
   "cell_type": "code",
   "execution_count": null,
   "id": "ae7115de",
   "metadata": {},
   "outputs": [],
   "source": []
  },
  {
   "cell_type": "code",
   "execution_count": null,
   "id": "d19d5dee",
   "metadata": {},
   "outputs": [],
   "source": []
  },
  {
   "cell_type": "code",
   "execution_count": null,
   "id": "a5dce5dc",
   "metadata": {},
   "outputs": [],
   "source": []
  }
 ],
 "metadata": {
  "kernelspec": {
   "display_name": "PythonData",
   "language": "python",
   "name": "pythondata"
  },
  "language_info": {
   "codemirror_mode": {
    "name": "ipython",
    "version": 3
   },
   "file_extension": ".py",
   "mimetype": "text/x-python",
   "name": "python",
   "nbconvert_exporter": "python",
   "pygments_lexer": "ipython3",
   "version": "3.9.7"
  }
 },
 "nbformat": 4,
 "nbformat_minor": 5
}
