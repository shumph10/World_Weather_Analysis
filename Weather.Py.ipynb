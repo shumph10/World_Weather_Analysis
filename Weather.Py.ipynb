{
 "cells": [
  {
   "cell_type": "code",
   "execution_count": 2,
   "id": "a310d109",
   "metadata": {},
   "outputs": [],
   "source": [
    "#Import dependencies\n",
    "import pandas as pd\n",
    "import numpy as np\n",
    "import matplotlib.pyplot as plt"
   ]
  },
  {
   "cell_type": "code",
   "execution_count": 3,
   "id": "a9796633",
   "metadata": {},
   "outputs": [
    {
     "data": {
      "text/plain": [
       "<zip at 0x20c57b2be00>"
      ]
     },
     "execution_count": 3,
     "metadata": {},
     "output_type": "execute_result"
    }
   ],
   "source": [
    "#make variables for the arrays created in random gen for lat and longitude\n",
    "lats = np.random.uniform(-90.000, 90.000, size=1500)\n",
    "lngs = np.random.uniform(-180.000, 180.000, size=1500)\n",
    "#zip object packs each pair of lats and lngs that have the same index in their\n",
    "    #respective array into a tuple, and stores the zip object in memory when called\n",
    "lat_lngs = zip(lats,lngs)\n",
    "lat_lngs\n",
    "#each latitude and longitude in a "
   ]
  },
  {
   "cell_type": "code",
   "execution_count": 4,
   "id": "ecdc4847",
   "metadata": {},
   "outputs": [],
   "source": [
    "#unpack lat_lngs into a list so we only need to create a set of random lats and longs once\n",
    "#Add the latitudes and longitudes to a list\n",
    "coordinates = list(lat_lngs)\n",
    "\n",
    "#can only unzip a zipped tuble once before its removed from the computers mem\n",
    "#make sure to unzip to a list before moving on -- so youre only working with the one random list not gen new"
   ]
  },
  {
   "cell_type": "code",
   "execution_count": 7,
   "id": "dba61ccc",
   "metadata": {},
   "outputs": [
    {
     "data": {
      "text/plain": [
       "605"
      ]
     },
     "execution_count": 7,
     "metadata": {},
     "output_type": "execute_result"
    }
   ],
   "source": [
    "## using citipy https://github.com/wingchen/citipy\n",
    "from citipy import citipy\n",
    "#create a list for holding the cities\n",
    "cities =[]\n",
    "#Identify the nearest city for each coord combo\n",
    "for coordinate in coordinates:\n",
    "    #use citipy.nearest_city() with coordinates inside to ident the city and attach name with .city_name\n",
    "    city = citipy.nearest_city(coordinate[0], coordinate[1]).city_name\n",
    "    \n",
    "    #if city name is unique add it to the list using the not in logical operator\n",
    "    if city not in cities:\n",
    "        cities.append(city)\n",
    "#print the city count to make sure its a sufficient amt\n",
    "len(cities)"
   ]
  },
  {
   "cell_type": "code",
   "execution_count": null,
   "id": "f1a12d7e",
   "metadata": {},
   "outputs": [],
   "source": []
  }
 ],
 "metadata": {
  "kernelspec": {
   "display_name": "PythonData",
   "language": "python",
   "name": "pythondata"
  },
  "language_info": {
   "codemirror_mode": {
    "name": "ipython",
    "version": 3
   },
   "file_extension": ".py",
   "mimetype": "text/x-python",
   "name": "python",
   "nbconvert_exporter": "python",
   "pygments_lexer": "ipython3",
   "version": "3.9.7"
  }
 },
 "nbformat": 4,
 "nbformat_minor": 5
}
